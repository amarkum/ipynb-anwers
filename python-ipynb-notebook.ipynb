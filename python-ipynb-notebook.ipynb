{
 "cells": [
  {
   "cell_type": "markdown",
   "metadata": {},
   "source": [
    "### You are <font color=red>not </font>allowed to use packages (libraries) not covered in the subject (e.g numpy, pandas, re etc.)"
   ]
  },
  {
   "cell_type": "markdown",
   "metadata": {},
   "source": [
    "### Q. Write a function named is_palindrome(). It will take in a list of strings as its only parameter. It returns a list of boolean values. The boolean values will indicate whether the strings are palindromes. For example, if the given list is ['Madam','A nut for a jar of tuna','I love DSAG'], the function will return [True,True, False].Your function should handle any number of string in the list. Your function should not modify the original list."
   ]
  },
  {
   "cell_type": "code",
   "execution_count": 38,
   "metadata": {},
   "outputs": [],
   "source": [
    "# this method returns boolean list of number of string(s) passed\n",
    "# this method check if the passed string is palindrome\n",
    "def is_palindrome(words):\n",
    "    # declare an empty list\n",
    "    output_list = []\n",
    "    # iterate through each of the word in the word list\n",
    "    for word in words:\n",
    "        # get the lower case of the word, as palindrome check is case insensitive\n",
    "        lowercase_word = word.lower().replace(' ', '')\n",
    "        # compare the string and reverse of the string, if it's true - which means it's a palindrome\n",
    "        # append the result to the list declared and return it\n",
    "        output_list.append(str(lowercase_word) == str(lowercase_word)[::-1])\n",
    "    return output_list"
   ]
  },
  {
   "cell_type": "code",
   "execution_count": 39,
   "metadata": {},
   "outputs": [
    {
     "name": "stdout",
     "output_type": "stream",
     "text": [
      "[True, True, False]\n",
      "['Madam', 'A nut for a jar of Tuna', 'I love DSAG']\n"
     ]
    }
   ],
   "source": [
    "test_list = ['Madam', 'A nut for a jar of Tuna', 'I love DSAG']\n",
    "print(is_palindrome(test_list))\n",
    "print(test_list)"
   ]
  },
  {
   "cell_type": "markdown",
   "metadata": {},
   "source": [
    "### Q. Write a function named palindrome_word(). It will take in a string and return True or False. If the string is \"King, are you glad you are king?\", it will return True. That is it will test if the given string is a palindrome by words. "
   ]
  },
  {
   "cell_type": "code",
   "execution_count": 40,
   "metadata": {},
   "outputs": [],
   "source": [
    "# this method checks if passed string is a palindrome by word.\n",
    "def palindrome_word(a_str):\n",
    "    # we removed any punctuation etc at first, declare a list of such characters\n",
    "    bad_character = ['?', ',']\n",
    "    # replace such punctuation with a blank character\n",
    "    for words in bad_character:\n",
    "        a_str = a_str.replace(words, '')\n",
    "    # convert the string to lower case for comparison\n",
    "    refined_text = a_str.lower()\n",
    "\n",
    "    # tokenize the words by space, and store all words into the list\n",
    "    words = refined_text.split()\n",
    "    # compare the list of words to reverse of the word list.\n",
    "    # if it matches return true or false\n",
    "    return words == words[::-1]"
   ]
  },
  {
   "cell_type": "code",
   "execution_count": 41,
   "metadata": {},
   "outputs": [
    {
     "name": "stdout",
     "output_type": "stream",
     "text": [
      "True\n"
     ]
    }
   ],
   "source": [
    "my_string = \"King, are you glad you are king?\"\n",
    "print(palindrome_word(my_string))"
   ]
  },
  {
   "cell_type": "markdown",
   "metadata": {},
   "source": [
    "### Q. Write a recursive function in Python to find the sum of digits of a number. Name the function sum_of_digits. The function should use recursive algorithm (calling itself). The function should print out the sum of all the digits of a given number. For example, sum_of_digits(343) should have a output of 10. Marks will be deducted if you do not follow strictly to the instructions."
   ]
  },
  {
   "cell_type": "code",
   "execution_count": 42,
   "metadata": {},
   "outputs": [],
   "source": [
    "# this method would recursively add the digits passed to the method\n",
    "def sum_of_digit(n):\n",
    "    # base condition : if it's 0 , return 0\n",
    "    if n == 0:\n",
    "        return 0\n",
    "    # there is recursive call made to the stack.\n",
    "    # each digit is obtained using a modulus operator '%' and passed to the method until 0 is reached\n",
    "    # at the last all this value is added up, when stack execution terminates.\n",
    "    sum = n % 10 + sum_of_digit(int(n / 10))\n",
    "    # return the sum to the method\n",
    "    return sum"
   ]
  },
  {
   "cell_type": "code",
   "execution_count": 43,
   "metadata": {},
   "outputs": [
    {
     "data": {
      "text/plain": [
       "10"
      ]
     },
     "execution_count": 43,
     "metadata": {},
     "output_type": "execute_result"
    }
   ],
   "source": [
    "sum_of_digit(343)"
   ]
  },
  {
   "cell_type": "markdown",
   "metadata": {},
   "source": [
    "### Q. Write a recursive function named find(text,substring) that will return the substring if the substring is inside the text or return an empty string if substring is not inside the text. Write another function named is_string_there(text, string) to test the find function. The function will return True if the string is inside the text or False if the string is not inside the text."
   ]
  },
  {
   "cell_type": "code",
   "execution_count": 44,
   "metadata": {},
   "outputs": [],
   "source": [
    "# this method returns true if a substring is present in a given text\n",
    "def find(text, substring):\n",
    "    # checks a condition if a substring is present in a text - if yes returns True\n",
    "    if substring in text:\n",
    "        return True\n",
    "    # if the substring is not found in text, it returns False\n",
    "    else:\n",
    "        return False\n",
    "\n",
    "# a wrapper method which would would internally call find(text, substring) to return True or False\n",
    "# based on the condition mentioned in find method\n",
    "def is_string_there(text, string):\n",
    "    return find(text, string)"
   ]
  },
  {
   "cell_type": "code",
   "execution_count": 45,
   "metadata": {},
   "outputs": [
    {
     "name": "stdout",
     "output_type": "stream",
     "text": [
      "True\n",
      "False\n"
     ]
    }
   ],
   "source": [
    "print(is_string_there('I love DSAG', 'DSAG'))\n",
    "print(is_string_there('I love python', 'DSAG'))"
   ]
  }
 ],
 "metadata": {
  "kernelspec": {
   "display_name": "Python 3",
   "language": "python",
   "name": "python3"
  },
  "language_info": {
   "codemirror_mode": {
    "name": "ipython",
    "version": 3
   },
   "file_extension": ".py",
   "mimetype": "text/x-python",
   "name": "python",
   "nbconvert_exporter": "python",
   "pygments_lexer": "ipython3",
   "version": "3.7.2"
  }
 },
 "nbformat": 4,
 "nbformat_minor": 2
}
